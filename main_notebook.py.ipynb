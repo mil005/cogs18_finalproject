{
 "cells": [
  {
   "cell_type": "markdown",
   "metadata": {},
   "source": [
    "# Final Project: Boba Bot"
   ]
  },
  {
   "cell_type": "code",
   "execution_count": 2,
   "metadata": {},
   "outputs": [],
   "source": [
    "import pandas as pd\n",
    "\n",
    "from my_module.Boba_Bot_Functions import *"
   ]
  },
  {
   "cell_type": "code",
   "execution_count": 3,
   "metadata": {},
   "outputs": [
    {
     "data": {
      "text/html": [
       "<div>\n",
       "<table border=\"1\" class=\"dataframe\">\n",
       "  <thead>\n",
       "    <tr style=\"text-align: right;\">\n",
       "      <th></th>\n",
       "      <th>BASE</th>\n",
       "      <th>BASIC TOPPINGS</th>\n",
       "      <th>CUP SIZE</th>\n",
       "      <th>FLAVOR</th>\n",
       "      <th>ICE</th>\n",
       "      <th>PREMIUM TOPPINGS</th>\n",
       "      <th>SUGAR</th>\n",
       "    </tr>\n",
       "  </thead>\n",
       "  <tbody>\n",
       "    <tr>\n",
       "      <th>0</th>\n",
       "      <td>green</td>\n",
       "      <td>honey boba</td>\n",
       "      <td>regular</td>\n",
       "      <td>strawberry</td>\n",
       "      <td>extra</td>\n",
       "      <td>mochi balls</td>\n",
       "      <td>extra</td>\n",
       "    </tr>\n",
       "    <tr>\n",
       "      <th>1</th>\n",
       "      <td>black</td>\n",
       "      <td>aloe</td>\n",
       "      <td>large</td>\n",
       "      <td>lychee</td>\n",
       "      <td>light</td>\n",
       "      <td>crystal boba</td>\n",
       "      <td>half</td>\n",
       "    </tr>\n",
       "    <tr>\n",
       "      <th>2</th>\n",
       "      <td>milk</td>\n",
       "      <td>lychee jelly</td>\n",
       "      <td></td>\n",
       "      <td>mango</td>\n",
       "      <td>zero</td>\n",
       "      <td>milk foam</td>\n",
       "      <td>quarter</td>\n",
       "    </tr>\n",
       "    <tr>\n",
       "      <th>3</th>\n",
       "      <td>oolong</td>\n",
       "      <td>grass jelly</td>\n",
       "      <td></td>\n",
       "      <td>wintermelon</td>\n",
       "      <td></td>\n",
       "      <td></td>\n",
       "      <td>zero</td>\n",
       "    </tr>\n",
       "  </tbody>\n",
       "</table>\n",
       "</div>"
      ],
      "text/plain": [
       "     BASE BASIC TOPPINGS CUP SIZE       FLAVOR    ICE PREMIUM TOPPINGS  \\\n",
       "0   green     honey boba  regular   strawberry  extra      mochi balls   \n",
       "1   black           aloe    large       lychee  light     crystal boba   \n",
       "2    milk   lychee jelly                 mango   zero        milk foam   \n",
       "3  oolong    grass jelly           wintermelon                           \n",
       "\n",
       "     SUGAR  \n",
       "0    extra  \n",
       "1     half  \n",
       "2  quarter  \n",
       "3     zero  "
      ]
     },
     "execution_count": 3,
     "metadata": {},
     "output_type": "execute_result"
    }
   ],
   "source": [
    "menu = {'BASE': ['green', 'black', 'milk', 'oolong'], \n",
    "     'FLAVOR': ['strawberry', 'lychee', 'mango', 'wintermelon'], \n",
    "     'BASIC TOPPINGS': ['honey boba', 'aloe', 'lychee jelly', 'grass jelly'],\n",
    "     'PREMIUM TOPPINGS': ['mochi balls', 'crystal boba', 'milk foam', ''],\n",
    "     'SUGAR': ['extra', 'half', 'quarter', 'zero'],\n",
    "     'ICE': ['extra', 'light', 'zero', ''],\n",
    "     'CUP SIZE': ['regular', 'large', '', '']} \n",
    "\n",
    "#looked up how to construct a table from given dictionary\n",
    "#https://pandas.pydata.org/pandas-docs/stable/reference/\n",
    "#api/pandas.DataFrame.html\n",
    "df = pd.DataFrame(data = menu)\n",
    "df"
   ]
  },
  {
   "cell_type": "code",
   "execution_count": 4,
   "metadata": {},
   "outputs": [],
   "source": [
    "# variables used to store categorical information about the drink  \n",
    "tea_base = ['green', 'black', 'milk', 'oolong',\n",
    "        'matcha'] \n",
    "tea_flavor = ['strawberry', 'lychee', 'mango', \n",
    "        'wintermelon']\n",
    "basic_toppings = ['honey boba', 'aloe', \n",
    "        'lychee jelly', 'grass jelly']\n",
    "premium_toppings = ['mochi balls', 'crystal boba', \n",
    "        'milk foam']\n",
    "toppings = {'honey boba': .5, 'aloe': .5, \n",
    "        'lychee jelly': .5, 'grass jelly': .5, \n",
    "        'mochi balls': .75, 'crystal boba': .75, \n",
    "        'milk foam': .75}\n",
    "sugar = ['extra', 'half', 'quarter', 'zero']\n",
    "ice = ['extra', 'light', 'zero']\n",
    "cup = ['regular', 'large']\n",
    "\n",
    "#initializes starting price of order to calculate total price\n",
    "#your_total = 0"
   ]
  },
  {
   "cell_type": "code",
   "execution_count": 5,
   "metadata": {},
   "outputs": [
    {
     "name": "stdout",
     "output_type": "stream",
     "text": [
      "Welcome! Would you like to order?             \n",
      "Enter yes or no. \n",
      "\tyes\n",
      "Pick a base: green, black, milk, oolong, or matcha.\n",
      "\tgreen\n",
      "Pick a flavor: strawberry, lychee, mango, or wintermelon.\n",
      "\tmango\n",
      "Is this the flavor you want?\n",
      "\tyes\n",
      "Would you like to add a topping to your drink? \n",
      "Enter yes or no.\n",
      "\tyes\n",
      "These are your options:\n",
      "\t\n",
      "- honey boba\n",
      "- aloe\n",
      "- lychee jelly\n",
      "- grass jelly\n",
      "- mochi balls\n",
      "- crystal boba\n",
      "- milk foam\n",
      "Which topping would you like to add?\n",
      "\taloe\n",
      "Okay, that will be $0.50.\n",
      "Would you like to add another topping?\n",
      "\tno\n",
      "Would you like to adjust your sugar level? \n",
      "Enter yes or no.\n",
      "\tno\n",
      "Would you like to adjust your ice level? \n",
      "Enter yes or no.\n",
      "\tno\n",
      "Would you like a regular or large size?\n",
      "\tregular\n",
      "Would you like to order anything else? Enter yes or no.\n",
      "\tno\n",
      "Amount due = $4.85\n",
      "\n",
      "Thank you!\n",
      "Great! You have enough money.\n",
      "Do you need a straw?\n",
      "\tno\n",
      "\n",
      "Okay, have a good day!\n"
     ]
    }
   ],
   "source": [
    "greet_customer()\n",
    "\n",
    "check_wallet(20, your_total)\n",
    "\n",
    "need_straw()"
   ]
  },
  {
   "cell_type": "code",
   "execution_count": null,
   "metadata": {},
   "outputs": [],
   "source": [
    "#Looked up how to display string as float with two trailing digits\n",
    "#https://thepythonguru.com/python-string-formatting/\n",
    "print(\"Amount due = ${0:.2f}\".format(you_pay))\n",
    "print(\"\\nThank you!\")"
   ]
  },
  {
   "cell_type": "code",
   "execution_count": 6,
   "metadata": {},
   "outputs": [
    {
     "ename": "SyntaxError",
     "evalue": "invalid syntax (<ipython-input-6-10cb078bd01a>, line 1)",
     "output_type": "error",
     "traceback": [
      "\u001b[0;36m  File \u001b[0;32m\"<ipython-input-6-10cb078bd01a>\"\u001b[0;36m, line \u001b[0;32m1\u001b[0m\n\u001b[0;31m    pytest Boba_Bot_Test_Functions.py\u001b[0m\n\u001b[0m                                 ^\u001b[0m\n\u001b[0;31mSyntaxError\u001b[0m\u001b[0;31m:\u001b[0m invalid syntax\n"
     ]
    }
   ],
   "source": [
    "pytest Boba_Bot_Test_Functions.py"
   ]
  },
  {
   "cell_type": "code",
   "execution_count": null,
   "metadata": {},
   "outputs": [],
   "source": []
  },
  {
   "cell_type": "code",
   "execution_count": null,
   "metadata": {},
   "outputs": [],
   "source": []
  }
 ],
 "metadata": {
  "kernelspec": {
   "display_name": "Python 3",
   "language": "python",
   "name": "python3"
  },
  "language_info": {
   "codemirror_mode": {
    "name": "ipython",
    "version": 3
   },
   "file_extension": ".py",
   "mimetype": "text/x-python",
   "name": "python",
   "nbconvert_exporter": "python",
   "pygments_lexer": "ipython3",
   "version": "3.6.7"
  }
 },
 "nbformat": 4,
 "nbformat_minor": 2
}
